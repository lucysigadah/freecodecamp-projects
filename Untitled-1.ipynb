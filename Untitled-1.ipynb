{
 "cells": [
  {
   "cell_type": "code",
   "execution_count": null,
   "metadata": {},
   "outputs": [],
   "source": [
    "Project 2: Analyzing Census Data using Pandas"
   ]
  },
  {
   "cell_type": "markdown",
   "metadata": {},
   "source": [
    "#Step 1: Import the necessary libraries (Pandas library to manipulate the data)\n",
    "#Step 2: Load the data (Read the data from a CSV file into a Pandas dataframe)\n",
    "#Step 3: Analyze the data (Use various Pandas functions to answer the given questions)\n",
    "#Step 4: Write the results to variables (Store the results of each analysis in the appropriate variables)"
   ]
  },
  {
   "cell_type": "code",
   "execution_count": null,
   "metadata": {},
   "outputs": [],
   "source": [
    "#Step 1\n",
    "import pandas as pd\n",
    "\n",
    "#Define the given function (calculate_demographic_data)\n",
    "def calculate_demographic_data(print_data=True):\n",
    "\n",
    "#Step 2\n",
    "df = pd.read_csv('adult.data.csv')\n",
    "\n",
    "#Step 3\n",
    "#Question 1: How many people of each race are represented in this dataset?\n",
    "race_count = df['race'].value_counts()\n",
    "\n",
    "#Question 2: What is the average age of men?\n",
    "avg_age_men = df[df['sex']=='male']['age'].mean()\n",
    "\n",
    "#Question 3: What is the percentage of people who have a Bachelor's Degree?\n",
    "percentage_bachelors = df[df['education']=='Bachelors'].mean()*100\n",
    "\n",
    "#Question 4: What percentage of people with advanced education (Bachelors, Masters, or Doctorate) make more than 50k\n",
    "advanced_education = df['education'].isin(['Bachelors', 'Masters', 'Doctorate'])\n",
    "higher_education_rich = df[advanced_education & (df['salary']=='>50k')].shape[0]/advanced_education.sum()*100\n",
    "\n",
    "#Question 5: What percentage of people without advanced education make more than 50k?\n",
    "non_advanced_education = ~df['education'].isin(['Bachelors', 'Masters', 'Doctorate'])\n",
    "lower_education_rich = df[non_advanced_education & (df['salary']=='>50k')].shape[0]/non_advanced_education.sum()*100\n",
    "\n",
    "#Question 6: What is the minimum number of hours a person works per week?\n",
    "minimum_work_hours = df['hours_per_week'].min()\n",
    "\n",
    "#Question 7: What percentage of the people who work the minimum number of hours per week have a salary of more than 50k?\n",
    "num_min_workers = df[df['hours_per_week']==minimum_work_hours]\n",
    "rich_percentage = num_min_workers[num_min_workers['salary']=='>50k'].shape[0]/num_min_workers.shape[0]*100\n",
    "\n",
    "#Question 8: What country has the highest percentage of people that earn >50k and what is that percentage?\n",
    "countries_earning = df[df['salary']=='>50k']['native_country'].value_counts()\n",
    "countries_total = df['native_country'].value_counts()\n",
    "highest_earning_country_percentage = (countries_earning/countries_total*100).max()\n",
    "highest_earning_country = (countries_earning/countries_total*100).idmax()\n",
    "\n",
    "#Question 9: Identify the most popular occupation for those who earn over 50k in India\n",
    "top_IN_occupation = df[(df['native_country']=='India' & (df['salary']=='>50k')]['occupation'].value_counts().idmax()\n",
    "\n",
    "#Step 4\n",
    "if print_data:\n",
    "    print(\"Number of each race:\\n\", race_count)\n",
    "    print(\"Average age of men: \", round(avg_age_men, 1))\n",
    "    print(f\"Percentage with Bachelors degrees: {percentage_bachelors}%\")\n",
    "    print(f\"Percentage with higher education that earn >50k: {higher_education_rich}%\")\n",
    "    print(f\"Percentage without higher education that earn >50k: {lower_education_rich}%\")\n",
    "    print(f\"Minimum work time: {min_work_hours} hours/week\")\n",
    "    print(f\"Percentage of the rich among those who work fewest hours: {rich_percentage}%\")\n",
    "    print(\"Country with the highest percentage of rich people\", highest_earning_country)\n",
    "    print(f\"Highest percentage of rich people in country: {highest_earning_country_percentage}%\")\n",
    "    print(\"Top occupations in India\", top_IN_occupation)\n",
    "\n",
    "\n",
    "return {\n",
    "    'race_count': race_count,\n",
    "    'avg_age_men': round(avg_age_men, 1),\n",
    "    'percentage_bachelors': round(percentage_bachelors, 1),\n",
    "    'higher_education_rich': round(higher_education_rich, 1),\n",
    "    'lower_education_rich': round(lower_education_rich, 1),\n",
    "    'minimum_work_hours': minimum_work_hours,\n",
    "    'rich_percentage': round(rich_percentage, 1),\n",
    "    'highest_earning_country': highest_earning_country,\n",
    "    'highest_earning_country_percentage': round(highest_earning_country_percentage, 1),\n",
    "    'top_IN_occupation': top_IN_occupation\n",
    "\n",
    "}"
   ]
  }
 ],
 "metadata": {
  "kernelspec": {
   "display_name": "Python 3",
   "language": "python",
   "name": "python3"
  },
  "language_info": {
   "codemirror_mode": {
    "name": "ipython",
    "version": 3
   },
   "file_extension": ".py",
   "mimetype": "text/x-python",
   "name": "python",
   "nbconvert_exporter": "python",
   "pygments_lexer": "ipython3",
   "version": "3.12.3"
  }
 },
 "nbformat": 4,
 "nbformat_minor": 2
}
