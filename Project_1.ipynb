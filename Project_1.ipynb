{
 "cells": [
  {
   "cell_type": "markdown",
   "id": "6313ae4b-a724-425d-8b3a-309bc4cf4536",
   "metadata": {},
   "source": [
    "FreeCodeCamp Project 1"
   ]
  },
  {
   "cell_type": "code",
   "execution_count": 5,
   "id": "abadb060-699c-40d4-afcc-ec611e29875c",
   "metadata": {},
   "outputs": [],
   "source": [
    "# Step 1: Import the NumPy Library\n",
    "import numpy as np"
   ]
  },
  {
   "cell_type": "code",
   "execution_count": 6,
   "id": "420696d7-2f39-4ce8-b5ce-9388b8029283",
   "metadata": {},
   "outputs": [],
   "source": [
    "# Step 2: Create the Function and Validate the Input\n",
    "def calculate(input_list):\n",
    "    if len(input_list) != 9:\n",
    "        raise ValueError(\"List must contain nine numbers.\")"
   ]
  },
  {
   "cell_type": "code",
   "execution_count": 7,
   "id": "e85e04cf-6c51-48f9-a277-48aa801ec053",
   "metadata": {},
   "outputs": [
    {
     "ename": "NameError",
     "evalue": "name 'input_list' is not defined",
     "output_type": "error",
     "traceback": [
      "\u001b[1;31m---------------------------------------------------------------------------\u001b[0m",
      "\u001b[1;31mNameError\u001b[0m                                 Traceback (most recent call last)",
      "Cell \u001b[1;32mIn[7], line 2\u001b[0m\n\u001b[0;32m      1\u001b[0m \u001b[38;5;66;03m# Step 3: Convert the List to a NumPy Array\u001b[39;00m\n\u001b[1;32m----> 2\u001b[0m matrix \u001b[38;5;241m=\u001b[39m np\u001b[38;5;241m.\u001b[39marray(\u001b[43minput_list\u001b[49m)\u001b[38;5;241m.\u001b[39mreshape(\u001b[38;5;241m3\u001b[39m, \u001b[38;5;241m3\u001b[39m)\n",
      "\u001b[1;31mNameError\u001b[0m: name 'input_list' is not defined"
     ]
    }
   ],
   "source": [
    "# Step 3: Convert the List to a NumPy Array\n",
    "matrix = np.array(input_list).reshape(3, 3)"
   ]
  },
  {
   "cell_type": "code",
   "execution_count": null,
   "id": "edd77b30-e03f-4409-a6ee-8524d9f4f56a",
   "metadata": {
    "scrolled": true
   },
   "outputs": [
    {
     "ename": "NameError",
     "evalue": "name 'matrix' is not defined",
     "output_type": "error",
     "traceback": [
      "\u001b[1;31m---------------------------------------------------------------------------\u001b[0m",
      "\u001b[1;31mNameError\u001b[0m                                 Traceback (most recent call last)",
      "Cell \u001b[1;32mIn[16], line 2\u001b[0m\n\u001b[0;32m      1\u001b[0m \u001b[38;5;66;03m# Step 4: Calculate the Required Statistics\u001b[39;00m\n\u001b[1;32m----> 2\u001b[0m mean_axis1 \u001b[38;5;241m=\u001b[39m np\u001b[38;5;241m.\u001b[39mmean(\u001b[43mmatrix\u001b[49m, axis\u001b[38;5;241m=\u001b[39m\u001b[38;5;241m0\u001b[39m)\u001b[38;5;241m.\u001b[39mtolist()\n\u001b[0;32m      3\u001b[0m mean_axis2 \u001b[38;5;241m=\u001b[39m np\u001b[38;5;241m.\u001b[39mmean(matrix, axis\u001b[38;5;241m=\u001b[39m\u001b[38;5;241m1\u001b[39m)\u001b[38;5;241m.\u001b[39mtolist()\n\u001b[0;32m      4\u001b[0m mean_flattened \u001b[38;5;241m=\u001b[39m np\u001b[38;5;241m.\u001b[39mmean(matrix)\u001b[38;5;241m.\u001b[39mtolist()\n",
      "\u001b[1;31mNameError\u001b[0m: name 'matrix' is not defined"
     ]
    }
   ],
   "source": [
    "# Step 4: Calculate the Required Statistics\n",
    "mean_axis1 = np.mean(matrix, axis=0).tolist()\n",
    "mean_axis2 = np.mean(matrix, axis=1).tolist()\n",
    "mean_flattened = np.mean(matrix).tolist()\n",
    "\n",
    "var_axis1 = np.var(matrix, axis=0).tolist()\n",
    "var_axis2 = np.var(matrix, axis=1).tolist()\n",
    "var_flattened = np.var(matrix).tolist()\n",
    "\n",
    "std_axis1 = np.std(matrix, axis=0).tolist()\n",
    "std_axis2 = np.std(matrix, axis=1).tolist()\n",
    "std_flattened = np.std(matrix).tolist()\n",
    "\n",
    "max_axis1 = np.max(matrix, axis=0).tolist()\n",
    "max_axis2 = np.max(matrix, axis=1).tolist()\n",
    "max_flattened = np.max(matrix).tolist()\n",
    "\n",
    "min_axis1 = np.min(matrix, axis=0).tolist()\n",
    "min_axis2 = np.min(matrix, axis=1).tolist()\n",
    "min_flattened = np.min(matrix).tolist()\n",
    "\n",
    "sum_axis1 = np.sum(matrix, axis=0).tolist()\n",
    "sum_axis2 = np.sum(matrix, axis=1).tolist()\n",
    "sum_flattened = np.sum(matrix).tolist()"
   ]
  },
  {
   "cell_type": "code",
   "execution_count": null,
   "id": "8b88e0fa-06b9-43c3-8255-45c06e2fd830",
   "metadata": {},
   "outputs": [
    {
     "ename": "NameError",
     "evalue": "name 'mean_axis1' is not defined",
     "output_type": "error",
     "traceback": [
      "\u001b[1;31m---------------------------------------------------------------------------\u001b[0m",
      "\u001b[1;31mNameError\u001b[0m                                 Traceback (most recent call last)",
      "Cell \u001b[1;32mIn[8], line 3\u001b[0m\n\u001b[0;32m      1\u001b[0m \u001b[38;5;66;03m# Step 5: Organize the Results in a Dictionary\u001b[39;00m\n\u001b[0;32m      2\u001b[0m calculations \u001b[38;5;241m=\u001b[39m {\n\u001b[1;32m----> 3\u001b[0m     \u001b[38;5;124m'\u001b[39m\u001b[38;5;124mmean\u001b[39m\u001b[38;5;124m'\u001b[39m : [\u001b[43mmean_axis1\u001b[49m, mean_axis2, mean_flattened],\n\u001b[0;32m      4\u001b[0m     \u001b[38;5;124m'\u001b[39m\u001b[38;5;124mvariance\u001b[39m\u001b[38;5;124m'\u001b[39m : [variance_axis1, variance_axis2, variance_flattened],\n\u001b[0;32m      5\u001b[0m     \u001b[38;5;124m'\u001b[39m\u001b[38;5;124mstd\u001b[39m\u001b[38;5;124m'\u001b[39m : [std_axis1, std_axis2, std_flattened],\n\u001b[0;32m      6\u001b[0m     \u001b[38;5;124m'\u001b[39m\u001b[38;5;124mmax\u001b[39m\u001b[38;5;124m'\u001b[39m : [max_axis1, max_axis2, max_flattened],\n\u001b[0;32m      7\u001b[0m     \u001b[38;5;124m'\u001b[39m\u001b[38;5;124mmin\u001b[39m\u001b[38;5;124m'\u001b[39m : [min_axis1, min_axis2, max_flattened],\n\u001b[0;32m      8\u001b[0m     \u001b[38;5;124m'\u001b[39m\u001b[38;5;124msum\u001b[39m\u001b[38;5;124m'\u001b[39m : [sum_axis1, sum_axis2, sum_flattened]\n\u001b[0;32m      9\u001b[0m \n\u001b[0;32m     10\u001b[0m }\n\u001b[0;32m     12\u001b[0m \u001b[38;5;28;01mreturn\u001b[39;00m calculations\n",
      "\u001b[1;31mNameError\u001b[0m: name 'mean_axis1' is not defined"
     ]
    }
   ],
   "source": [
    "# Step 5: Organize the Results in a Dictionary\n",
    "calculations = {\n",
    "    'mean' : [mean_axis1, mean_axis2, mean_flattened],\n",
    "    'variance' : [variance_axis1, variance_axis2, variance_flattened],\n",
    "    'std' : [std_axis1, std_axis2, std_flattened],\n",
    "    'max' : [max_axis1, max_axis2, max_flattened],\n",
    "    'min' : [min_axis1, min_axis2, max_flattened],\n",
    "    'sum' : [sum_axis1, sum_axis2, sum_flattened]\n",
    "\n",
    "}\n",
    "\n",
    "return calculations"
   ]
  },
  {
   "cell_type": "code",
   "execution_count": null,
   "id": "4c36b83b-d132-4d72-93fa-54c758047ec5",
   "metadata": {},
   "outputs": [
    {
     "name": "stdout",
     "output_type": "stream",
     "text": [
      "None\n"
     ]
    }
   ],
   "source": [
    "# Example\n",
    "print(calculate([0,1,2,3,4,5,6,7,8]))"
   ]
  },
  {
   "cell_type": "code",
   "execution_count": null,
   "id": "836062ec-b874-452e-996a-a91eec9c6212",
   "metadata": {},
   "outputs": [],
   "source": []
  }
 ],
 "metadata": {
  "kernelspec": {
   "display_name": "Python 3 (ipykernel)",
   "language": "python",
   "name": "python3"
  },
  "language_info": {
   "codemirror_mode": {
    "name": "ipython",
    "version": 3
   },
   "file_extension": ".py",
   "mimetype": "text/x-python",
   "name": "python",
   "nbconvert_exporter": "python",
   "pygments_lexer": "ipython3",
   "version": "3.12.3"
  }
 },
 "nbformat": 4,
 "nbformat_minor": 5
}
